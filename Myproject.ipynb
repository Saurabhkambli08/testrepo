{
 "cells": [
  {
   "cell_type": "markdown",
   "id": "12302c0d",
   "metadata": {},
   "source": [
    "# My Jupyter Notebook on IBM Watson Studio"
   ]
  },
  {
   "cell_type": "markdown",
   "id": "8160c13f",
   "metadata": {},
   "source": [
    "**Saurabh Kambli**"
   ]
  },
  {
   "cell_type": "markdown",
   "id": "c3cbc1de",
   "metadata": {},
   "source": [
    "Currently a Data science student"
   ]
  },
  {
   "cell_type": "markdown",
   "id": "76d4b9cd",
   "metadata": {},
   "source": [
    "*I am interested in Data Science because I have interest in Data analysis getting insights and applying in businesses.*"
   ]
  },
  {
   "cell_type": "markdown",
   "id": "99cddb16",
   "metadata": {},
   "source": [
    "### The code gives factorial of a number"
   ]
  },
  {
   "cell_type": "code",
   "execution_count": 3,
   "id": "dfcfe82e",
   "metadata": {},
   "outputs": [
    {
     "name": "stdout",
     "output_type": "stream",
     "text": [
      "120\n"
     ]
    }
   ],
   "source": [
    "n = 5\n",
    "product = 1\n",
    "for n in range(1, n + 1):\n",
    "  product = product * n\n",
    "print(product)"
   ]
  },
  {
   "cell_type": "markdown",
   "id": "4c0a057a",
   "metadata": {},
   "source": [
    "~~one~~"
   ]
  },
  {
   "cell_type": "markdown",
   "id": "a196670d",
   "metadata": {},
   "source": [
    ">this is block quote"
   ]
  },
  {
   "cell_type": "markdown",
   "id": "34eb6bf4",
   "metadata": {},
   "source": [
    "---\n",
    "___\n",
    "***"
   ]
  },
  {
   "cell_type": "code",
   "execution_count": null,
   "id": "cb69e87e",
   "metadata": {},
   "outputs": [],
   "source": []
  }
 ],
 "metadata": {
  "kernelspec": {
   "display_name": "Python 3 (ipykernel)",
   "language": "python",
   "name": "python3"
  },
  "language_info": {
   "codemirror_mode": {
    "name": "ipython",
    "version": 3
   },
   "file_extension": ".py",
   "mimetype": "text/x-python",
   "name": "python",
   "nbconvert_exporter": "python",
   "pygments_lexer": "ipython3",
   "version": "3.10.2"
  }
 },
 "nbformat": 4,
 "nbformat_minor": 5
}
